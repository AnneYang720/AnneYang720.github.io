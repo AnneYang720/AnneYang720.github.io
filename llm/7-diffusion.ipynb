{
 "cells": [
  {
   "cell_type": "markdown",
   "metadata": {},
   "source": [
    "# Diffusion Model\n",
    "![](./images/gen-model-compare.webp)\n",
    "![](./images/diffusion.webp)"
   ]
  },
  {
   "cell_type": "markdown",
   "metadata": {},
   "source": [
    "## 前向过程\n",
    "\n",
    "前向过程是往图片上加噪声的过程。给定真实图片$x_0 \\sim q(x)$，diffusion前向过程通过$T$次累计对其添加高斯噪声：\n",
    "\n",
    "$$ q(x_t|x_{t-1}) = \\mathcal{N}(x_t; \\sqrt{1-\\beta_t}x_{t-1}, \\beta_t I) $$\n",
    "\n",
    "$\\beta \\in (0, 1)$是高斯分布方差的超参数，实际中是随着$t$增大而递增。当$T \\to \\infty$时，$x_T$是完全的高斯噪声。"
   ]
  },
  {
   "cell_type": "markdown",
   "metadata": {},
   "source": [
    "### 特性1 重参数（reparameterization trick）"
   ]
  },
  {
   "cell_type": "markdown",
   "metadata": {},
   "source": [
    "### 特性2：任意时刻的$x_t$可以由$x_0$和$\\beta$表示"
   ]
  }
 ],
 "metadata": {
  "language_info": {
   "name": "python"
  }
 },
 "nbformat": 4,
 "nbformat_minor": 2
}
