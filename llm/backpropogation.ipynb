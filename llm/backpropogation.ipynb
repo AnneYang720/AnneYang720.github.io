{
 "cells": [
  {
   "cell_type": "markdown",
   "metadata": {},
   "source": [
    "# 卷积神经网络及反向传播"
   ]
  },
  {
   "cell_type": "markdown",
   "metadata": {},
   "source": [
    "## 卷积\n",
    "![convolution](./images/convolution.png)\n",
    "\n",
    "## 池化\n",
    "![max pooling](./images/pooling.png)\n",
    "\n",
    "## 全连接\n"
   ]
  },
  {
   "cell_type": "markdown",
   "metadata": {},
   "source": [
    "## 偏导计算\n",
    "1. 向量对向量的偏导计算\n",
    "$y=Wx$\n",
    "$y=xW$\n",
    "\n",
    "2. 向量对矩阵的偏导计算\n",
    "\n",
    "3. 矩阵对矩阵的偏导计算\n",
    "\n",
    "4. 多个矩阵的偏导计算\n"
   ]
  },
  {
   "cell_type": "code",
   "execution_count": 1,
   "metadata": {},
   "outputs": [
    {
     "name": "stdout",
     "output_type": "stream",
     "text": [
      "3\n"
     ]
    }
   ],
   "source": [
    "a = 1\n",
    "b = 2\n",
    "print(a+b)"
   ]
  }
 ],
 "metadata": {
  "kernelspec": {
   "display_name": "Python 3",
   "language": "python",
   "name": "python3"
  },
  "language_info": {
   "codemirror_mode": {
    "name": "ipython",
    "version": 3
   },
   "file_extension": ".py",
   "mimetype": "text/x-python",
   "name": "python",
   "nbconvert_exporter": "python",
   "pygments_lexer": "ipython3",
   "version": "3.10.12"
  }
 },
 "nbformat": 4,
 "nbformat_minor": 2
}
