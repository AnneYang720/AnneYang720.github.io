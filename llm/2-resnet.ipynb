{
 "cells": [
  {
   "cell_type": "markdown",
   "metadata": {},
   "source": [
    "# ResNet\n",
    "\n",
    "给定输入边长$N$，卷积核大小$K$，填充大小$P$，和步长$S$，单侧边长的输出大小$O$（不考虑批次大小和深度）可以通过下面的公式计算：\n",
    "$$ O = \\frac{N - K + 2P}{S} + 1 $$\n",
    "\n",
    "![](./images/resnet.png)"
   ]
  },
  {
   "cell_type": "markdown",
   "metadata": {},
   "source": [
    "## with pytorch"
   ]
  },
  {
   "cell_type": "code",
   "execution_count": 1,
   "metadata": {},
   "outputs": [],
   "source": [
    "import torch\n",
    "import torch.nn as nn\n",
    "import torch.nn.functional as F\n",
    "import numpy as np\n",
    "from torch.optim import lr_scheduler\n",
    "from torchvision import datasets, transforms"
   ]
  },
  {
   "cell_type": "markdown",
   "metadata": {},
   "source": [
    "### 定义网络\n",
    "实线部分\n",
    "\n",
    "![](./images/resnet_1.jpg)"
   ]
  },
  {
   "cell_type": "code",
   "execution_count": 2,
   "metadata": {},
   "outputs": [],
   "source": [
    "class basic_block(nn.Module):\n",
    "    '''定义了带实线部分的残差块，输入和输出通道数和形状相同'''\n",
    "    def __init__(self,in_channels):\n",
    "        super(basic_block, self).__init__()\n",
    "        self.conv1 = nn.Conv2d(in_channels,in_channels,kernel_size=3,stride=1,padding=1)\n",
    "        self.conv2 = nn.Conv2d(in_channels,in_channels,kernel_size=3,stride=1,padding=1)\n",
    "        self.b1 = nn.BatchNorm2d(in_channels)\n",
    "        self.b2 = nn.BatchNorm2d(in_channels)\n",
    "    def forward(self, x):\n",
    "        y = F.relu(self.b1(self.conv1(x)))\n",
    "        y = self.b2(self.conv2(y))\n",
    "        return F.relu(y+x)\n",
    "\n",
    "class basic_block2(nn.Module):\n",
    "    '''定义了带虚线部分的残差块，输入和输出通道数和形状不同'''\n",
    "    def __init__(self,in_channels,out_channels):\n",
    "        super(basic_block2, self).__init__()\n",
    "        self.conv1 = nn.Conv2d(in_channels,out_channels,kernel_size=1,stride=2)\n",
    "        self.conv2 = nn.Conv2d(in_channels,out_channels,kernel_size=3,stride=2,padding=1)\n",
    "        self.conv3 = nn.Conv2d(out_channels,out_channels,kernel_size=3,stride=1,padding=1)\n",
    "        self.b1 = nn.BatchNorm2d(out_channels)\n",
    "        self.b2 = nn.BatchNorm2d(out_channels)\n",
    "        self.b3 = nn.BatchNorm2d(out_channels)\n",
    "    def forward(self, x):\n",
    "        z = self.b1(self.conv1(x))\n",
    "        y = F.relu(self.b2(self.conv2(x)))\n",
    "        y = self.b3(self.conv3(y))\n",
    "        return F.relu(y+z)\n",
    "\n",
    "class MyResNet18(nn.Module):\n",
    "    def __init__(self):\n",
    "        super(MyResNet18, self).__init__()\n",
    "        # 第一层：卷积层\n",
    "        self.conv1 = nn.Conv2d(in_channels=3, out_channels=64, kernel_size=7, stride=2, padding=3)\n",
    "        self.bn1 = nn.BatchNorm2d(64)\n",
    "        # Max Pooling 层\n",
    "        self.s1 = nn.MaxPool2d(kernel_size=3, stride=2, padding=1)\n",
    "        # 第二、三、四、五层：“实线”卷积层\n",
    "        self.resn1 = basic_block(64)\n",
    "        self.resn2 = basic_block(64)\n",
    "        # 第六、七层：“虚线”卷积层\n",
    "        self.resn3 = basic_block2(64,128)\n",
    "        # 第八、九层：“实线”卷积层\n",
    "        self.resn4 = basic_block(128)\n",
    "        # # 第十、十一层：“虚线”卷积层\n",
    "        self.resn5 = basic_block2(128,256)\n",
    "        # 第十二 、十三层：“实线”卷积层\n",
    "        self.resn6 = basic_block(256)\n",
    "        # 第十四、十五层：“虚线”卷积层\n",
    "        self.resn7 = basic_block2(256,512)\n",
    "        # 第十六 、十七层：“实线”卷积层\n",
    "        self.resn8 = basic_block(512)\n",
    "        # avg pooling 层\n",
    "        self.s2 = nn.AvgPool2d(kernel_size=7, stride=1, padding=0)\n",
    "        # 第十八层：全连接层\n",
    "        self.Flatten = nn.Flatten()\n",
    "        self.f18 = nn.Linear(512, 1000)\n",
    "        # 为满足该实例另加\n",
    "        self.f_output = nn.Linear(1000, 10)\n",
    "\n",
    "    def forward(self, x):  # shape: torch.Size([1, 3, 224, 224])\n",
    "        x = self.conv1(x)  # shape: torch.Size([1, 64, 112, 112])\n",
    "        x = self.bn1(x) # shape: torch.Size([1, 64, 112, 112])\n",
    "        x = self.s1(x)  # shape: torch.Size([1, 64, 56, 56])\n",
    "        x = self.resn1(x) # shape: torch.Size([1, 64, 56, 56])\n",
    "        x = self.resn2(x) # shape: torch.Size([1, 64, 56, 56])\n",
    "        x = self.resn3(x) # shape: torch.Size([1, 128, 28, 28])\n",
    "        x = self.resn4(x) # shape: torch.Size([1, 128, 28, 28])\n",
    "        x = self.resn5(x) # shape: torch.Size([1, 256, 14, 14])\n",
    "        x = self.resn6(x) # shape: torch.Size([1, 256, 14, 14])\n",
    "        x = self.resn7(x) # shape: torch.Size([1, 512, 7, 7])\n",
    "        x = self.resn8(x) # shape: torch.Size([1, 512, 7, 7])\n",
    "        x = self.s2(x) # shape: torch.Size([1, 512, 1, 1])\n",
    "        x = self.Flatten(x) # shape: shape: torch.Size([1, 512])\n",
    "        x = self.f18(x) # shape: torch.Size([1, 1000])\n",
    "        # 为满足该实例另加\n",
    "        x = self.f_output(x)  # shape: torch.Size([1, 10])\n",
    "        x = F.softmax(x, dim=1)  # shape: torch.Size([1, 10])\n",
    "        return x"
   ]
  },
  {
   "cell_type": "markdown",
   "metadata": {},
   "source": [
    "### 准备数据"
   ]
  },
  {
   "cell_type": "code",
   "execution_count": null,
   "metadata": {},
   "outputs": [],
   "source": [
    "data_transform = transforms.Compose(\n",
    "    [\n",
    "        transforms.Resize(224),  # 缩放图像大小为 224*224\n",
    "        transforms.ToTensor(),  # 仅对数据做转换为 tensor 格式操作\n",
    "    ]\n",
    ")\n",
    "\n",
    "# 加载训练数据集\n",
    "train_dataset = datasets.MNIST(\n",
    "    root='./data', train=True, transform=data_transform, download=True\n",
    ")\n",
    "# 给训练集创建一个数据集加载器\n",
    "train_dataloader = torch.utils.data.DataLoader(\n",
    "    dataset=train_dataset, batch_size=8, shuffle=True\n",
    ")\n",
    "# 加载测试数据集\n",
    "test_dataset = datasets.MNIST(\n",
    "    root='./data', train=False, transform=data_transform, download=True\n",
    ")\n",
    "# 给测试集创建一个数据集加载器\n",
    "test_dataloader = torch.utils.data.DataLoader(\n",
    "    dataset=train_dataset, batch_size=8, shuffle=True\n",
    ")"
   ]
  },
  {
   "cell_type": "code",
   "execution_count": 4,
   "metadata": {},
   "outputs": [
    {
     "data": {
      "image/png": "[encoded data removed]",
      "text/plain": [
       "<Figure size 640x480 with 1 Axes>"
      ]
     },
     "metadata": {},
     "output_type": "display_data"
    }
   ],
   "source": [
    "import matplotlib.pyplot as plt\n",
    "\n",
    "image, label = train_dataset[0]\n",
    "\n",
    "# `image`现在是一个[C, H, W]的Tensor，使用matplotlib展示之前，需要转换为[H, W, C]或[H, W]的格式\n",
    "image = image.permute(1, 2, 0)\n",
    "# 或者因为MNIST是灰度图，所以实际只需要将通道维度去掉\n",
    "# image = image.squeeze()\n",
    "\n",
    "plt.imshow(image, cmap=\"gray\")  # 使用灰度色彩映射\n",
    "plt.title(f'Label: {label}')\n",
    "plt.show()"
   ]
  },
  {
   "cell_type": "markdown",
   "metadata": {},
   "source": [
    "### 其他定义"
   ]
  },
  {
   "cell_type": "code",
   "execution_count": 5,
   "metadata": {},
   "outputs": [],
   "source": [
    "# 如果显卡可用，则用显卡进行训练\n",
    "device = \"cuda\" if torch.cuda.is_available() else 'cpu'\n",
    "\n",
    "# 调用 net 里定义的模型，如果 GPU 可用则将模型转到 GPU\n",
    "model = MyResNet18().to(device)\n",
    "\n",
    "# 定义损失函数（交叉熵损失）\n",
    "loss_fn = nn.CrossEntropyLoss()\n",
    "# 定义优化器（SGD：随机梯度下降）\n",
    "optimizer = torch.optim.SGD(model.parameters(), lr=1e-3, momentum=0.9)\n",
    "# 学习率每隔 10 个 epoch 变为原来的 0.1\n",
    "lr_scheduler = lr_scheduler.StepLR(optimizer, step_size=10, gamma=0.1)\n",
    "\n",
    "\n",
    "# 定义训练函数\n",
    "def train(dataloader, model, loss_fn, optimizer):\n",
    "    loss, current, n = 0.0, 0.0, 0\n",
    "    for batch, (X, y) in enumerate(dataloader):\n",
    "        # 单通道转为三通道\n",
    "        X = np.array(X)\n",
    "        X = X.transpose((1, 0, 2, 3))  # array 转置\n",
    "        image = np.concatenate((X, X, X), axis=0)\n",
    "        image = image.transpose((1, 0, 2, 3))  # array 转置回来\n",
    "        image = torch.tensor(image)  # 将 numpy 数据格式转为 tensor\n",
    "        # 前向传播\n",
    "        image, y = image.to(device), y.to(device)\n",
    "        output = model(image)\n",
    "        cur_loss = loss_fn(output, y)\n",
    "        _, pred = torch.max(output, axis=1)\n",
    "        cur_acc = torch.sum(y == pred) / output.shape[0]\n",
    "        # 反向传播\n",
    "        optimizer.zero_grad()\n",
    "        cur_loss.backward()\n",
    "        optimizer.step()\n",
    "        loss += cur_loss.item()\n",
    "        current += cur_acc.item()\n",
    "        n = n + 1\n",
    "    print('train_loss：' + str(loss / n))\n",
    "    print('train_acc：' + str(current / n))\n",
    "\n",
    "\n",
    "# 定义测试函数\n",
    "def test(dataloader, model, loss_fn):\n",
    "    # 将模型转换为验证模式\n",
    "    model.eval()\n",
    "    loss, current, n = 0.0, 0.0, 0\n",
    "    # 非训练，推理期用到（测试时模型参数不用更新，所以 no_grad）\n",
    "    with torch.no_grad():\n",
    "        for batch, (X, y) in enumerate(dataloader):\n",
    "            # 单通道转为三通道\n",
    "            X = np.array(X)\n",
    "            X = X.transpose((1, 0, 2, 3))  # array 转置\n",
    "            image = np.concatenate((X, X, X), axis=0)\n",
    "            image = image.transpose((1, 0, 2, 3))  # array 转置回来\n",
    "            image = torch.tensor(image)  # 将 numpy 数据格式转为 tensor\n",
    "            image, y = image.to(device), y.to(device)\n",
    "            output = model(image)\n",
    "            cur_loss = loss_fn(output, y)\n",
    "            _, pred = torch.max(output, axis=1)\n",
    "            cur_acc = torch.sum(y == pred) / output.shape[0]\n",
    "            loss += cur_loss.item()\n",
    "            current += cur_acc.item()\n",
    "            n = n + 1\n",
    "        print('test_loss：' + str(loss / n))\n",
    "        print('test_acc：' + str(current / n))"
   ]
  },
  {
   "cell_type": "markdown",
   "metadata": {},
   "source": [
    "### 开始训练"
   ]
  },
  {
   "cell_type": "code",
   "execution_count": null,
   "metadata": {},
   "outputs": [],
   "source": [
    "epoch = 100\n",
    "for t in range(epoch):\n",
    "    lr_scheduler.step()\n",
    "    print(f\"Epoch {t + 1}\\n----------------------\")\n",
    "    train(train_dataloader, model, loss_fn, optimizer)\n",
    "    test(test_dataloader, model, loss_fn)\n",
    "    torch.save(model.state_dict(), \"save_model/{}model.pth\".format(t))  # 模型保存\n",
    "print(\"Done!\")"
   ]
  },
  {
   "cell_type": "markdown",
   "metadata": {},
   "source": [
    "## with fastai"
   ]
  },
  {
   "cell_type": "code",
   "execution_count": 7,
   "metadata": {},
   "outputs": [],
   "source": [
    "from fastai.layers import *\n",
    "from fastai.vision.all import *"
   ]
  },
  {
   "cell_type": "markdown",
   "metadata": {},
   "source": [
    "### 准备数据"
   ]
  },
  {
   "cell_type": "code",
   "execution_count": 8,
   "metadata": {},
   "outputs": [
    {
     "data": {
      "text/html": [
       "\n",
       "<style>\n",
       "    /* Turns off some styling */\n",
       "    progress {\n",
       "        /* gets rid of default border in Firefox and Opera. */\n",
       "        border: none;\n",
       "        /* Needs to be in here for Safari polyfill so background images work as expected. */\n",
       "        background-size: auto;\n",
       "    }\n",
       "    progress:not([value]), progress:not([value])::-webkit-progress-bar {\n",
       "        background: repeating-linear-gradient(45deg, #7e7e7e, #7e7e7e 10px, #5c5c5c 10px, #5c5c5c 20px);\n",
       "    }\n",
       "    .progress-bar-interrupted, .progress-bar-interrupted::-webkit-progress-bar {\n",
       "        background: #F44336;\n",
       "    }\n",
       "</style>\n"
      ],
      "text/plain": [
       "<IPython.core.display.HTML object>"
      ]
     },
     "metadata": {},
     "output_type": "display_data"
    },
    {
     "data": {
      "text/html": [
       "\n",
       "    <div>\n",
       "      <progress value='15687680' class='' max='15683414' style='width:300px; height:20px; vertical-align: middle;'></progress>\n",
       "      100.03% [15687680/15683414 00:05&lt;00:00]\n",
       "    </div>\n",
       "    "
      ],
      "text/plain": [
       "<IPython.core.display.HTML object>"
      ]
     },
     "metadata": {},
     "output_type": "display_data"
    },
    {
     "data": {
      "text/plain": [
       "<Axes: >"
      ]
     },
     "execution_count": 8,
     "metadata": {},
     "output_type": "execute_result"
    },
    {
     "data": {
      "image/png": "[encoded data removed]",
      "text/plain": [
       "<Figure size 500x500 with 1 Axes>"
      ]
     },
     "metadata": {},
     "output_type": "display_data"
    }
   ],
   "source": [
    "path = untar_data(URLs.MNIST)\n",
    "il = ImageDataLoaders.from_folder(\n",
    "    path,\n",
    "    train='training',\n",
    "    valid='testing',\n",
    "    valid_pct=0.2,\n",
    "    item_tfms=Resize(224),\n",
    "    bs=64,  # 设置批量大小为64\n",
    "    seed=42,\n",
    ")\n",
    "il.one_batch()[0][0].show()"
   ]
  },
  {
   "cell_type": "markdown",
   "metadata": {},
   "source": [
    "### 定义网络"
   ]
  },
  {
   "cell_type": "markdown",
   "metadata": {},
   "source": [
    "#### 手写"
   ]
  },
  {
   "cell_type": "code",
   "execution_count": 55,
   "metadata": {},
   "outputs": [
    {
     "data": {
      "text/html": [
       "\n",
       "<style>\n",
       "    /* Turns off some styling */\n",
       "    progress {\n",
       "        /* gets rid of default border in Firefox and Opera. */\n",
       "        border: none;\n",
       "        /* Needs to be in here for Safari polyfill so background images work as expected. */\n",
       "        background-size: auto;\n",
       "    }\n",
       "    progress:not([value]), progress:not([value])::-webkit-progress-bar {\n",
       "        background: repeating-linear-gradient(45deg, #7e7e7e, #7e7e7e 10px, #5c5c5c 10px, #5c5c5c 20px);\n",
       "    }\n",
       "    .progress-bar-interrupted, .progress-bar-interrupted::-webkit-progress-bar {\n",
       "        background: #F44336;\n",
       "    }\n",
       "</style>\n"
      ],
      "text/plain": [
       "<IPython.core.display.HTML object>"
      ]
     },
     "metadata": {},
     "output_type": "display_data"
    },
    {
     "data": {
      "text/html": [],
      "text/plain": [
       "<IPython.core.display.HTML object>"
      ]
     },
     "metadata": {},
     "output_type": "display_data"
    },
    {
     "name": "stdout",
     "output_type": "stream",
     "text": [
      "Sequential (Input shape: 64 x 3 x 224 x 224)\n",
      "============================================================================\n",
      "Layer (type)         Output Shape         Param #    Trainable \n",
      "============================================================================\n",
      "                     64 x 64 x 112 x 112 \n",
      "Conv2d                                    9408       True      \n",
      "BatchNorm2d                               128        True      \n",
      "ReLU                                                           \n",
      "____________________________________________________________________________\n",
      "                     64 x 64 x 56 x 56   \n",
      "MaxPool2d                                                      \n",
      "Conv2d                                    36864      True      \n",
      "BatchNorm2d                               128        True      \n",
      "ReLU                                                           \n",
      "Conv2d                                    36864      True      \n",
      "BatchNorm2d                               128        True      \n",
      "Sequential                                                     \n",
      "ReLU                                                           \n",
      "Conv2d                                    36864      True      \n",
      "BatchNorm2d                               128        True      \n",
      "ReLU                                                           \n",
      "Conv2d                                    36864      True      \n",
      "BatchNorm2d                               128        True      \n",
      "Sequential                                                     \n",
      "ReLU                                                           \n",
      "____________________________________________________________________________\n",
      "                     64 x 128 x 28 x 28  \n",
      "Conv2d                                    73728      True      \n",
      "BatchNorm2d                               256        True      \n",
      "ReLU                                                           \n",
      "Conv2d                                    147456     True      \n",
      "BatchNorm2d                               256        True      \n",
      "____________________________________________________________________________\n",
      "                     64 x 64 x 28 x 28   \n",
      "AvgPool2d                                                      \n",
      "____________________________________________________________________________\n",
      "                     64 x 128 x 28 x 28  \n",
      "Conv2d                                    8192       True      \n",
      "BatchNorm2d                               256        True      \n",
      "ReLU                                                           \n",
      "Conv2d                                    147456     True      \n",
      "BatchNorm2d                               256        True      \n",
      "ReLU                                                           \n",
      "Conv2d                                    147456     True      \n",
      "BatchNorm2d                               256        True      \n",
      "Sequential                                                     \n",
      "ReLU                                                           \n",
      "____________________________________________________________________________\n",
      "                     64 x 256 x 14 x 14  \n",
      "Conv2d                                    294912     True      \n",
      "BatchNorm2d                               512        True      \n",
      "ReLU                                                           \n",
      "Conv2d                                    589824     True      \n",
      "BatchNorm2d                               512        True      \n",
      "____________________________________________________________________________\n",
      "                     64 x 128 x 14 x 14  \n",
      "AvgPool2d                                                      \n",
      "____________________________________________________________________________\n",
      "                     64 x 256 x 14 x 14  \n",
      "Conv2d                                    32768      True      \n",
      "BatchNorm2d                               512        True      \n",
      "ReLU                                                           \n",
      "Conv2d                                    589824     True      \n",
      "BatchNorm2d                               512        True      \n",
      "ReLU                                                           \n",
      "Conv2d                                    589824     True      \n",
      "BatchNorm2d                               512        True      \n",
      "Sequential                                                     \n",
      "ReLU                                                           \n",
      "____________________________________________________________________________\n",
      "                     64 x 512 x 7 x 7    \n",
      "Conv2d                                    1179648    True      \n",
      "BatchNorm2d                               1024       True      \n",
      "ReLU                                                           \n",
      "Conv2d                                    2359296    True      \n",
      "BatchNorm2d                               1024       True      \n",
      "____________________________________________________________________________\n",
      "                     64 x 256 x 7 x 7    \n",
      "AvgPool2d                                                      \n",
      "____________________________________________________________________________\n",
      "                     64 x 512 x 7 x 7    \n",
      "Conv2d                                    131072     True      \n",
      "BatchNorm2d                               1024       True      \n",
      "ReLU                                                           \n",
      "Conv2d                                    2359296    True      \n",
      "BatchNorm2d                               1024       True      \n",
      "ReLU                                                           \n",
      "Conv2d                                    2359296    True      \n",
      "BatchNorm2d                               1024       True      \n",
      "Sequential                                                     \n",
      "ReLU                                                           \n",
      "____________________________________________________________________________\n",
      "                     64 x 512 x 1 x 1    \n",
      "AdaptiveAvgPool2d                                              \n",
      "____________________________________________________________________________\n",
      "                     64 x 512            \n",
      "Flatten                                                        \n",
      "____________________________________________________________________________\n",
      "                     64 x 10             \n",
      "Linear                                    5130       True      \n",
      "____________________________________________________________________________\n",
      "\n",
      "Total params: 11,181,642\n",
      "Total trainable params: 11,181,642\n",
      "Total non-trainable params: 0\n",
      "\n",
      "Optimizer used: <function Adam at 0x7fae885df490>\n",
      "Loss function: <function cross_entropy at 0x7fafb2330040>\n",
      "\n",
      "Callbacks:\n",
      "  - TrainEvalCallback\n",
      "  - CastToTensor\n",
      "  - Recorder\n",
      "  - ProgressCallback\n"
     ]
    }
   ],
   "source": [
    "model = nn.Sequential(\n",
    "    ConvLayer(ni=3, nf=64, stride=2, ks=7, padding=3),\n",
    "    MaxPool(ks=3, stride=2, padding=1),\n",
    "    ResBlock(expansion=1, ni=64, nf=64, stride=1),\n",
    "    ResBlock(expansion=1, ni=64, nf=64, stride=1),\n",
    "    ResBlock(expansion=1, ni=64, nf=128, stride=2),\n",
    "    ResBlock(expansion=1, ni=128, nf=128, stride=1),\n",
    "    ResBlock(expansion=1, ni=128, nf=256, stride=2),\n",
    "    ResBlock(expansion=1, ni=256, nf=256, stride=1),\n",
    "    ResBlock(expansion=1, ni=256, nf=512, stride=2),\n",
    "    ResBlock(expansion=1, ni=512, nf=512, stride=1),\n",
    "    nn.AdaptiveAvgPool2d(1),\n",
    "    Flatten(),\n",
    "    nn.Linear(512, 10),\n",
    ")\n",
    "\n",
    "learn = Learner(il, model, loss_func=F.cross_entropy, metrics=accuracy)\n",
    "print(learn.summary())"
   ]
  },
  {
   "cell_type": "markdown",
   "metadata": {},
   "source": [
    "#### 封装"
   ]
  },
  {
   "cell_type": "code",
   "execution_count": 35,
   "metadata": {},
   "outputs": [],
   "source": [
    "learn = vision_learner(il, resnet18, metrics=accuracy)\n",
    "# print(learn.summary())"
   ]
  },
  {
   "cell_type": "markdown",
   "metadata": {},
   "source": [
    "### 训练"
   ]
  },
  {
   "cell_type": "code",
   "execution_count": 56,
   "metadata": {},
   "outputs": [
    {
     "data": {
      "text/html": [
       "\n",
       "<style>\n",
       "    /* Turns off some styling */\n",
       "    progress {\n",
       "        /* gets rid of default border in Firefox and Opera. */\n",
       "        border: none;\n",
       "        /* Needs to be in here for Safari polyfill so background images work as expected. */\n",
       "        background-size: auto;\n",
       "    }\n",
       "    progress:not([value]), progress:not([value])::-webkit-progress-bar {\n",
       "        background: repeating-linear-gradient(45deg, #7e7e7e, #7e7e7e 10px, #5c5c5c 10px, #5c5c5c 20px);\n",
       "    }\n",
       "    .progress-bar-interrupted, .progress-bar-interrupted::-webkit-progress-bar {\n",
       "        background: #F44336;\n",
       "    }\n",
       "</style>\n"
      ],
      "text/plain": [
       "<IPython.core.display.HTML object>"
      ]
     },
     "metadata": {},
     "output_type": "display_data"
    },
    {
     "data": {
      "text/html": [
       "<table border=\"1\" class=\"dataframe\">\n",
       "  <thead>\n",
       "    <tr style=\"text-align: left;\">\n",
       "      <th>epoch</th>\n",
       "      <th>train_loss</th>\n",
       "      <th>valid_loss</th>\n",
       "      <th>accuracy</th>\n",
       "      <th>time</th>\n",
       "    </tr>\n",
       "  </thead>\n",
       "  <tbody>\n",
       "    <tr>\n",
       "      <td>0</td>\n",
       "      <td>0.033257</td>\n",
       "      <td>0.028392</td>\n",
       "      <td>0.991286</td>\n",
       "      <td>00:54</td>\n",
       "    </tr>\n",
       "  </tbody>\n",
       "</table>"
      ],
      "text/plain": [
       "<IPython.core.display.HTML object>"
      ]
     },
     "metadata": {},
     "output_type": "display_data"
    }
   ],
   "source": [
    "learn.fit_one_cycle(n_epoch=1, lr_max=0.05)\n",
    "# learn.recorder.plot_loss()"
   ]
  },
  {
   "cell_type": "markdown",
   "metadata": {},
   "source": [
    "### 其他"
   ]
  },
  {
   "cell_type": "markdown",
   "metadata": {},
   "source": [
    "#### 保存&加载模型"
   ]
  },
  {
   "cell_type": "code",
   "execution_count": 57,
   "metadata": {},
   "outputs": [
    {
     "data": {
      "text/html": [
       "\n",
       "<style>\n",
       "    /* Turns off some styling */\n",
       "    progress {\n",
       "        /* gets rid of default border in Firefox and Opera. */\n",
       "        border: none;\n",
       "        /* Needs to be in here for Safari polyfill so background images work as expected. */\n",
       "        background-size: auto;\n",
       "    }\n",
       "    progress:not([value]), progress:not([value])::-webkit-progress-bar {\n",
       "        background: repeating-linear-gradient(45deg, #7e7e7e, #7e7e7e 10px, #5c5c5c 10px, #5c5c5c 20px);\n",
       "    }\n",
       "    .progress-bar-interrupted, .progress-bar-interrupted::-webkit-progress-bar {\n",
       "        background: #F44336;\n",
       "    }\n",
       "</style>\n"
      ],
      "text/plain": [
       "<IPython.core.display.HTML object>"
      ]
     },
     "metadata": {},
     "output_type": "display_data"
    },
    {
     "data": {
      "text/html": [
       "<table border=\"1\" class=\"dataframe\">\n",
       "  <thead>\n",
       "    <tr style=\"text-align: left;\">\n",
       "      <th>epoch</th>\n",
       "      <th>train_loss</th>\n",
       "      <th>valid_loss</th>\n",
       "      <th>accuracy</th>\n",
       "      <th>time</th>\n",
       "    </tr>\n",
       "  </thead>\n",
       "  <tbody>\n",
       "    <tr>\n",
       "      <td>0</td>\n",
       "      <td>0.022323</td>\n",
       "      <td>0.025082</td>\n",
       "      <td>0.991929</td>\n",
       "      <td>00:53</td>\n",
       "    </tr>\n",
       "  </tbody>\n",
       "</table>"
      ],
      "text/plain": [
       "<IPython.core.display.HTML object>"
      ]
     },
     "metadata": {},
     "output_type": "display_data"
    }
   ],
   "source": [
    "learn.save('resnet18')\n",
    "\n",
    "learn2 = Learner(il, model, loss_func=F.cross_entropy, metrics=accuracy)\n",
    "learn2.load('resnet18')\n",
    "learn2.fit_one_cycle(n_epoch=1, lr_max=0.05)\n",
    "\n"
   ]
  },
  {
   "cell_type": "markdown",
   "metadata": {},
   "source": [
    "#### 预估最佳学习率"
   ]
  },
  {
   "cell_type": "code",
   "execution_count": 26,
   "metadata": {},
   "outputs": [
    {
     "data": {
      "text/html": [
       "\n",
       "<style>\n",
       "    /* Turns off some styling */\n",
       "    progress {\n",
       "        /* gets rid of default border in Firefox and Opera. */\n",
       "        border: none;\n",
       "        /* Needs to be in here for Safari polyfill so background images work as expected. */\n",
       "        background-size: auto;\n",
       "    }\n",
       "    progress:not([value]), progress:not([value])::-webkit-progress-bar {\n",
       "        background: repeating-linear-gradient(45deg, #7e7e7e, #7e7e7e 10px, #5c5c5c 10px, #5c5c5c 20px);\n",
       "    }\n",
       "    .progress-bar-interrupted, .progress-bar-interrupted::-webkit-progress-bar {\n",
       "        background: #F44336;\n",
       "    }\n",
       "</style>\n"
      ],
      "text/plain": [
       "<IPython.core.display.HTML object>"
      ]
     },
     "metadata": {},
     "output_type": "display_data"
    },
    {
     "data": {
      "text/html": [],
      "text/plain": [
       "<IPython.core.display.HTML object>"
      ]
     },
     "metadata": {},
     "output_type": "display_data"
    },
    {
     "data": {
      "text/plain": [
       "SuggestedLRs(valley=0.0011220184387639165)"
      ]
     },
     "execution_count": 26,
     "metadata": {},
     "output_type": "execute_result"
    },
    {
     "data": {
      "image/png": "[encoded data removed]",
      "text/plain": [
       "<Figure size 640x480 with 1 Axes>"
      ]
     },
     "metadata": {},
     "output_type": "display_data"
    }
   ],
   "source": [
    "learn.lr_find(end_lr=100)"
   ]
  },
  {
   "cell_type": "markdown",
   "metadata": {},
   "source": [
    "#### learn示例"
   ]
  },
  {
   "cell_type": "code",
   "execution_count": 32,
   "metadata": {},
   "outputs": [
    {
     "data": {
      "text/html": [
       "\n",
       "<style>\n",
       "    /* Turns off some styling */\n",
       "    progress {\n",
       "        /* gets rid of default border in Firefox and Opera. */\n",
       "        border: none;\n",
       "        /* Needs to be in here for Safari polyfill so background images work as expected. */\n",
       "        background-size: auto;\n",
       "    }\n",
       "    progress:not([value]), progress:not([value])::-webkit-progress-bar {\n",
       "        background: repeating-linear-gradient(45deg, #7e7e7e, #7e7e7e 10px, #5c5c5c 10px, #5c5c5c 20px);\n",
       "    }\n",
       "    .progress-bar-interrupted, .progress-bar-interrupted::-webkit-progress-bar {\n",
       "        background: #F44336;\n",
       "    }\n",
       "</style>\n"
      ],
      "text/plain": [
       "<IPython.core.display.HTML object>"
      ]
     },
     "metadata": {},
     "output_type": "display_data"
    },
    {
     "data": {
      "text/html": [
       "<table border=\"1\" class=\"dataframe\">\n",
       "  <thead>\n",
       "    <tr style=\"text-align: left;\">\n",
       "      <th>epoch</th>\n",
       "      <th>train_loss</th>\n",
       "      <th>valid_loss</th>\n",
       "      <th>time</th>\n",
       "    </tr>\n",
       "  </thead>\n",
       "  <tbody>\n",
       "    <tr>\n",
       "      <td>0</td>\n",
       "      <td>11.058654</td>\n",
       "      <td>1.842438</td>\n",
       "      <td>00:00</td>\n",
       "    </tr>\n",
       "    <tr>\n",
       "      <td>1</td>\n",
       "      <td>5.434813</td>\n",
       "      <td>0.206217</td>\n",
       "      <td>00:00</td>\n",
       "    </tr>\n",
       "  </tbody>\n",
       "</table>"
      ],
      "text/plain": [
       "<IPython.core.display.HTML object>"
      ]
     },
     "metadata": {},
     "output_type": "display_data"
    }
   ],
   "source": [
    "from fastai.test_utils import *\n",
    "test_learn = synth_learner(lr=1e-2)\n",
    "xb,yb = test_learn.dls.one_batch()\n",
    "init_loss = test_learn.loss_func(test_learn.model(xb), yb)\n",
    "test_learn.fit_one_cycle(2)\n",
    "xb,yb = test_learn.dls.one_batch()\n",
    "final_loss = test_learn.loss_func(test_learn.model(xb), yb)\n",
    "assert final_loss < init_loss"
   ]
  },
  {
   "cell_type": "markdown",
   "metadata": {},
   "source": []
  }
 ],
 "metadata": {
  "kernelspec": {
   "display_name": "venv",
   "language": "python",
   "name": "python3"
  },
  "language_info": {
   "codemirror_mode": {
    "name": "ipython",
    "version": 3
   },
   "file_extension": ".py",
   "mimetype": "text/x-python",
   "name": "python",
   "nbconvert_exporter": "python",
   "pygments_lexer": "ipython3",
   "version": "3.10.12"
  }
 },
 "nbformat": 4,
 "nbformat_minor": 2
}
